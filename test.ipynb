{
 "cells": [
  {
   "metadata": {
    "ExecuteTime": {
     "end_time": "2025-08-26T16:31:53.071226Z",
     "start_time": "2025-08-26T16:31:47.776833Z"
    }
   },
   "cell_type": "code",
   "source": [
    "from src.llm_manager import llm_manager\n",
    "from src.utils import setup_logging, logger\n",
    "from src.partition import partition\n",
    "from src.summaries import summarize, image_summarize\n",
    "from src.vector_store import DocumentManager\n",
    "from src.rag_pipeline import RAG\n",
    "from src.config import settings"
   ],
   "id": "dc25f0a82b10cc64",
   "outputs": [
    {
     "name": "stdout",
     "output_type": "stream",
     "text": [
      "2025-08-27 00:31:52,085 - multirag - INFO - Loaded 16 cached summaries\n"
     ]
    }
   ],
   "execution_count": 1
  },
  {
   "metadata": {
    "ExecuteTime": {
     "end_time": "2025-08-26T16:31:53.805226Z",
     "start_time": "2025-08-26T16:31:53.801697Z"
    }
   },
   "cell_type": "code",
   "source": [
    "setup_logging()\n",
    "logger.info(\"Starting MultiRAG pipeline\")"
   ],
   "id": "d47b682478aff915",
   "outputs": [
    {
     "name": "stdout",
     "output_type": "stream",
     "text": [
      "2025-08-27 00:31:53,803 - multirag - INFO - Starting MultiRAG pipeline\n"
     ]
    }
   ],
   "execution_count": 3
  },
  {
   "metadata": {
    "ExecuteTime": {
     "end_time": "2025-08-26T16:32:26.387696Z",
     "start_time": "2025-08-26T16:31:55.096450Z"
    }
   },
   "cell_type": "code",
   "source": "tables, texts, images = partition(settings.default_pdf_path)",
   "id": "268c7fed0bf5c92f",
   "outputs": [
    {
     "name": "stdout",
     "output_type": "stream",
     "text": [
      "2025-08-27 00:31:55,097 - multirag - INFO - Starting PDF document partitioning\n",
      "2025-08-27 00:31:55,098 - multirag - INFO - File validation passed: ./content/attention-is-all-you-need.pdf\n",
      "Warning: No languages specified, defaulting to English.\n"
     ]
    },
    {
     "name": "stderr",
     "output_type": "stream",
     "text": [
      "The `max_size` parameter is deprecated and will be removed in v4.26. Please specify in `size['longest_edge'] instead`.\n"
     ]
    },
    {
     "name": "stdout",
     "output_type": "stream",
     "text": [
      "2025-08-27 00:32:26,385 - multirag - INFO - Extracted 10 elements from PDF\n",
      "2025-08-27 00:32:26,386 - multirag - INFO - Processed: 10 text elements, 3 tables, 3 images\n",
      "2025-08-27 00:32:26,386 - multirag - INFO - Successfully completed PDF document partitioning\n"
     ]
    }
   ],
   "execution_count": 4
  },
  {
   "metadata": {
    "ExecuteTime": {
     "end_time": "2025-08-26T16:32:30.151444Z",
     "start_time": "2025-08-26T16:32:30.146477Z"
    }
   },
   "cell_type": "code",
   "source": "text_summaries = summarize(texts)",
   "id": "78a3201b0032f5b",
   "outputs": [
    {
     "name": "stdout",
     "output_type": "stream",
     "text": [
      "2025-08-27 00:32:30,147 - multirag - INFO - Starting text summarization\n",
      "2025-08-27 00:32:30,149 - multirag - INFO - All 10 text summaries found in cache\n",
      "2025-08-27 00:32:30,150 - multirag - INFO - Successfully completed text summarization\n"
     ]
    }
   ],
   "execution_count": 5
  },
  {
   "metadata": {
    "ExecuteTime": {
     "end_time": "2025-08-26T16:32:33.962951Z",
     "start_time": "2025-08-26T16:32:33.956019Z"
    }
   },
   "cell_type": "code",
   "source": [
    "table_summaries = summarize([table.metadata.text_as_html for table in tables])\n",
    "image_summaries = image_summarize(images)"
   ],
   "id": "7b4a633f4cc1623d",
   "outputs": [
    {
     "name": "stdout",
     "output_type": "stream",
     "text": [
      "2025-08-27 00:32:33,957 - multirag - INFO - Starting text summarization\n",
      "2025-08-27 00:32:33,958 - multirag - INFO - All 3 text summaries found in cache\n",
      "2025-08-27 00:32:33,959 - multirag - INFO - Successfully completed text summarization\n",
      "2025-08-27 00:32:33,959 - multirag - INFO - Starting image summarization\n",
      "2025-08-27 00:32:33,960 - multirag - INFO - All 3 image summaries found in cache\n",
      "2025-08-27 00:32:33,961 - multirag - INFO - Successfully completed image summarization\n"
     ]
    }
   ],
   "execution_count": 6
  },
  {
   "metadata": {
    "ExecuteTime": {
     "end_time": "2025-08-26T16:32:43.768376Z",
     "start_time": "2025-08-26T16:32:43.693448Z"
    }
   },
   "cell_type": "code",
   "source": "document_manager = DocumentManager()",
   "id": "b7b6ba6768acad42",
   "outputs": [
    {
     "name": "stdout",
     "output_type": "stream",
     "text": [
      "2025-08-27 00:32:43,694 - multirag - INFO - Creating new embeddings instance: google:models/gemini-embedding-001\n"
     ]
    }
   ],
   "execution_count": 7
  },
  {
   "metadata": {
    "ExecuteTime": {
     "end_time": "2025-08-26T16:20:02.105515Z",
     "start_time": "2025-08-26T16:20:02.102235Z"
    }
   },
   "cell_type": "code",
   "source": "tables",
   "id": "d9a40c2abea6faf8",
   "outputs": [
    {
     "data": {
      "text/plain": [
       "[<unstructured.documents.elements.Table at 0x17f9b0050>,\n",
       " <unstructured.documents.elements.Table at 0x32d2ed1d0>,\n",
       " <unstructured.documents.elements.Table at 0x32d2ed310>]"
      ]
     },
     "execution_count": 10,
     "metadata": {},
     "output_type": "execute_result"
    }
   ],
   "execution_count": 10
  },
  {
   "metadata": {
    "ExecuteTime": {
     "end_time": "2025-08-26T16:32:57.831028Z",
     "start_time": "2025-08-26T16:32:49.892225Z"
    }
   },
   "cell_type": "code",
   "source": "document_manager.add_documents(texts, text_summaries, tables, table_summaries, images, image_summaries)",
   "id": "550ca559c0364fec",
   "outputs": [
    {
     "name": "stdout",
     "output_type": "stream",
     "text": [
      "2025-08-27 00:32:49,893 - multirag - INFO - Starting document storage\n",
      "2025-08-27 00:32:57,827 - multirag - INFO - Added 6 new documents (texts: 0, tables: 3, images: 3)\n",
      "2025-08-27 00:32:57,828 - multirag - INFO - Successfully completed document storage\n"
     ]
    }
   ],
   "execution_count": 8
  },
  {
   "metadata": {
    "ExecuteTime": {
     "end_time": "2025-08-26T16:34:13.475533Z",
     "start_time": "2025-08-26T16:34:13.466727Z"
    }
   },
   "cell_type": "code",
   "source": "rag_instance = RAG(document_manager)",
   "id": "89a01817962cb41a",
   "outputs": [
    {
     "name": "stdout",
     "output_type": "stream",
     "text": [
      "2025-08-27 00:34:13,467 - multirag - INFO - Creating new LLM instance: google:gemini-2.5-flash-lite:0.0\n",
      "2025-08-27 00:34:13,473 - multirag - INFO - RAG pipeline initialized\n"
     ]
    }
   ],
   "execution_count": 9
  },
  {
   "metadata": {
    "ExecuteTime": {
     "end_time": "2025-08-26T16:35:57.471266Z",
     "start_time": "2025-08-26T16:35:56.040901Z"
    }
   },
   "cell_type": "code",
   "source": [
    "query = \"What is multihead?\"\n",
    "result = rag_instance.call(query)"
   ],
   "id": "eeaddaa869b59053",
   "outputs": [
    {
     "name": "stdout",
     "output_type": "stream",
     "text": [
      "2025-08-27 00:35:56,042 - multirag - INFO - Starting RAG query processing\n",
      "2025-08-27 00:35:56,042 - multirag - INFO - Processing query: What is multihead?...\n",
      "2025-08-27 00:35:57,469 - multirag - INFO - Successfully completed RAG query processing\n"
     ]
    }
   ],
   "execution_count": 12
  },
  {
   "metadata": {
    "ExecuteTime": {
     "end_time": "2025-08-26T16:36:03.281106Z",
     "start_time": "2025-08-26T16:36:03.278572Z"
    }
   },
   "cell_type": "code",
   "source": "result",
   "id": "241f5216393ac4bd",
   "outputs": [
    {
     "data": {
      "text/plain": [
       "{'context': {'images': [], 'texts': []},\n",
       " 'query': 'What is multihead?',\n",
       " 'response': 'I am sorry, but the provided context does not contain information about \"multihead.\" Therefore, I cannot answer your question.'}"
      ]
     },
     "execution_count": 20,
     "metadata": {},
     "output_type": "execute_result"
    }
   ],
   "execution_count": 20
  }
 ],
 "metadata": {
  "kernelspec": {
   "display_name": "Python 3",
   "language": "python",
   "name": "python3"
  },
  "language_info": {
   "codemirror_mode": {
    "name": "ipython",
    "version": 2
   },
   "file_extension": ".py",
   "mimetype": "text/x-python",
   "name": "python",
   "nbconvert_exporter": "python",
   "pygments_lexer": "ipython2",
   "version": "2.7.6"
  }
 },
 "nbformat": 4,
 "nbformat_minor": 5
}
